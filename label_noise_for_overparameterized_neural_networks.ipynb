{
 "cells": [
  {
   "cell_type": "code",
   "execution_count": 153,
   "metadata": {},
   "outputs": [],
   "source": [
    "import tensorflow as tf\n",
    "import random\n",
    "import numpy as np\n",
    "import pandas as pd"
   ]
  },
  {
   "cell_type": "code",
   "execution_count": 154,
   "metadata": {},
   "outputs": [],
   "source": [
    "mnist = tf.keras.datasets.mnist"
   ]
  },
  {
   "cell_type": "code",
   "execution_count": 155,
   "metadata": {},
   "outputs": [],
   "source": [
    "#Load\n",
    "(x_train, y_train), (x_test, y_test) = mnist.load_data()\n",
    "\n",
    "\n",
    "x_train = x_train.reshape((60000, 28, 28, 1))\n",
    "x_test = x_test.reshape((10000, 28, 28, 1))\n",
    "\n",
    "\n",
    "\n",
    "#Convert the samples from integers to floating-point numbers:\n",
    "x_train, x_test = x_train / 255.0, x_test / 255.0"
   ]
  },
  {
   "cell_type": "code",
   "execution_count": 156,
   "metadata": {},
   "outputs": [],
   "source": [
    "def def_model():\n",
    "    model = tf.keras.models.Sequential([\n",
    "        \n",
    "        tf.keras.layers.Conv2D(32, (3, 3), activation='relu', input_shape=(28, 28, 1)),\n",
    "        tf.keras.layers.MaxPooling2D(pool_size=(2, 2)),\n",
    "        tf.keras.layers.Conv2D(64, (3, 3), activation='relu'),\n",
    "        tf.keras.layers.Flatten(),\n",
    "        tf.keras.layers.Dense(256, activation='relu'),\n",
    "        tf.keras.layers.Dense(10, activation='softmax')\n",
    "        ])\n",
    "\n",
    "    model.compile(optimizer=tf.keras.optimizers.Adadelta(),\n",
    "                  loss='sparse_categorical_crossentropy',\n",
    "                  metrics=['accuracy'])\n",
    "    return model"
   ]
  },
  {
   "cell_type": "code",
   "execution_count": 157,
   "metadata": {},
   "outputs": [],
   "source": [
    "def corrupt_a_fraction_of_the_labels(fraction,labels):\n",
    "    \n",
    "    new_labels = []\n",
    "    \n",
    "    for labels in labels:\n",
    "        \n",
    "        if(random.randint(0,100) <= fraction):\n",
    "            new_labels.append(random.randint(0,9))\n",
    "        else:\n",
    "            new_labels.append(labels)\n",
    "    \n",
    "    return np.asarray(new_labels)\n"
   ]
  },
  {
   "cell_type": "code",
   "execution_count": null,
   "metadata": {},
   "outputs": [],
   "source": []
  },
  {
   "cell_type": "code",
   "execution_count": null,
   "metadata": {},
   "outputs": [
    {
     "name": "stdout",
     "output_type": "stream",
     "text": [
      "fraction: 0\n"
     ]
    }
   ],
   "source": [
    "df = pd.DataFrame(columns=['fraction','acc_test','acc_train_corrupted','acc_train_uncorrupted'])\n",
    "\n",
    "for fraction in range(0,110,10):\n",
    "    \n",
    "    print(\"fraction:\",fraction)\n",
    "    y_train_corrupt = corrupt_a_fraction_of_the_labels(fraction,y_train)\n",
    "    \n",
    "    model = def_model()\n",
    "    model.fit(x_train, y_train_corrupt, epochs=200,verbose=0)\n",
    "    \n",
    "    \n",
    "    _, acc_test = model.evaluate(x_test, y_test)\n",
    "    _, acc_train_corrupted = model.evaluate(x_train, y_train_corrupt)\n",
    "    _, acc_train_uncorrupted = model.evaluate(x_train, y_train)\n",
    "    \n",
    "    print(\"fraction:\",fraction)\n",
    "    print(\"acc_test:\",acc_test)\n",
    "    print(\"acc_train_corrupted:\",acc_train_corrupted)\n",
    "    print(\"acc_train_uncorrupted:\",acc_train_uncorrupted)\n",
    "    \n",
    "    df = df.append({'fraction': fraction,'acc_test':acc_test,'acc_train_corrupted':acc_train_corrupted,'acc_train_uncorrupted':acc_train_uncorrupted }, ignore_index=True)\n",
    "\n"
   ]
  },
  {
   "cell_type": "code",
   "execution_count": null,
   "metadata": {},
   "outputs": [],
   "source": [
    "#df.to_csv(\"2_Trained_model_after_many_iterations.csv\")"
   ]
  },
  {
   "cell_type": "code",
   "execution_count": null,
   "metadata": {},
   "outputs": [],
   "source": [
    "df.plot.line(x='fraction',figsize=(20,10),grid=True,style=[\"-o\",\"-s\",\"-^\"], ms=10)"
   ]
  },
  {
   "cell_type": "code",
   "execution_count": null,
   "metadata": {},
   "outputs": [],
   "source": []
  },
  {
   "cell_type": "code",
   "execution_count": null,
   "metadata": {},
   "outputs": [],
   "source": []
  }
 ],
 "metadata": {
  "kernelspec": {
   "display_name": "Python 3",
   "language": "python",
   "name": "python3"
  },
  "language_info": {
   "codemirror_mode": {
    "name": "ipython",
    "version": 3
   },
   "file_extension": ".py",
   "mimetype": "text/x-python",
   "name": "python",
   "nbconvert_exporter": "python",
   "pygments_lexer": "ipython3",
   "version": "3.7.4"
  }
 },
 "nbformat": 4,
 "nbformat_minor": 2
}
